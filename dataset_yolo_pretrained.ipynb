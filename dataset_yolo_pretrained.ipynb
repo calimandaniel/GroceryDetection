{
 "cells": [
  {
   "cell_type": "code",
   "execution_count": 2,
   "metadata": {},
   "outputs": [],
   "source": [
    "import os\n",
    "os.environ['KMP_DUPLICATE_LIB_OK']='True'"
   ]
  },
  {
   "cell_type": "code",
   "execution_count": null,
   "metadata": {},
   "outputs": [],
   "source": [
    "# Divide the annotation file into multiple .txt files for each image\n",
    "# Define the paths\n",
    "annotation_path = \"./grocery_annotations/annotation.txt\"\n",
    "image_dir = \"./Images_Grocery/ShelfImages/\"\n",
    "\n",
    "# Open the annotation file\n",
    "with open(annotation_path, 'r') as f:\n",
    "    lines = f.readlines()\n",
    "\n",
    "# Process each line\n",
    "for line in lines:\n",
    "    parts = line.split()\n",
    "    image_name = parts[0]\n",
    "    num_objects = int(parts[1])\n",
    "    objects = [parts[i:i+5] for i in range(2, len(parts), 5)]\n",
    "\n",
    "    # Create a new annotation file for this image\n",
    "    with open(os.path.join(image_dir, image_name + '.txt'), 'w') as f:\n",
    "        for obj in objects:\n",
    "            # Write the object annotation to the file\n",
    "            f.write(' '.join(obj) + '\\n')"
   ]
  },
  {
   "cell_type": "code",
   "execution_count": null,
   "metadata": {},
   "outputs": [],
   "source": [
    "import shutil\n",
    "\n",
    "# Specify the source directory and target directories\n",
    "source_dir = image_dir\n",
    "img_train_dir = './images/train'\n",
    "label_train_dir = './labels/train'\n",
    "img_val_dir = './images/val'\n",
    "label_val_dir = './labels/val'\n",
    "\n",
    "# Create the target directories if they don't exist\n",
    "os.makedirs(img_train_dir, exist_ok=True)\n",
    "os.makedirs(label_train_dir, exist_ok=True)\n",
    "os.makedirs(img_val_dir, exist_ok=True)\n",
    "os.makedirs(label_val_dir, exist_ok=True)\n",
    "\n",
    "# Initialize counters for image and label files\n",
    "img_counter = 0\n",
    "label_counter = 0\n",
    "\n",
    "# Iterate over all files in the source directory\n",
    "for filename in os.listdir(source_dir):\n",
    "    # If the file is a '.JPG' file\n",
    "    if filename.endswith('.JPG'):\n",
    "        # If we haven't moved 15 image files yet, move it to the image validation directory\n",
    "        if img_counter < 15:\n",
    "            shutil.move(os.path.join(source_dir, filename), os.path.join(img_val_dir, filename))\n",
    "            img_counter += 1\n",
    "        # Otherwise, move it to the image training directory\n",
    "        else:\n",
    "            shutil.move(os.path.join(source_dir, filename), os.path.join(img_train_dir, filename))\n",
    "    # If the file is a '.txt' file\n",
    "    elif filename.endswith('.txt'):\n",
    "        # If we haven't moved 15 label files yet, move it to the label validation directory\n",
    "        if label_counter < 15:\n",
    "            shutil.move(os.path.join(source_dir, filename), os.path.join(label_val_dir, filename))\n",
    "            label_counter += 1\n",
    "        # Otherwise, move it to the label training directory\n",
    "        else:\n",
    "            shutil.move(os.path.join(source_dir, filename), os.path.join(label_train_dir, filename))"
   ]
  },
  {
   "cell_type": "code",
   "execution_count": 14,
   "metadata": {},
   "outputs": [],
   "source": [
    "import cv2\n",
    "\n",
    "\n",
    "# Specify the directory containing your text files\n",
    "directory = './Images_Grocery/labels/train' #Change this to val or train\n",
    "\n",
    "for filename in os.listdir(directory):\n",
    "    if filename.endswith('.JPG.txt'):\n",
    "        # Remove the '.JPG' from the filename\n",
    "        new_filename = filename.replace('.JPG', '')\n",
    "        # Rename the file\n",
    "        os.rename(os.path.join(directory, filename), os.path.join(directory, new_filename))\n",
    "        \n",
    "img_dir = './Images_Grocery/images/train/'\n",
    "\n",
    "for filename in os.listdir(directory):\n",
    "    if filename.endswith('.txt'):\n",
    "        # Load the corresponding image to get its dimensions\n",
    "        img_filename = os.path.splitext(filename)[0] + '.JPG' # replace with your image file extension\n",
    "        img = cv2.imread(os.path.join(img_dir, img_filename))\n",
    "        img_height, img_width = img.shape[:2]\n",
    "        #print(img_height, img_width)\n",
    "\n",
    "        # # Read the bounding box coordinates from the text file\n",
    "        with open(os.path.join(directory, filename), 'r') as file:\n",
    "            lines = file.readlines()\n",
    "\n",
    "        # Convert the bounding box coordinates to the YOLO format and rewrite the text file\n",
    "        with open(os.path.join(directory, filename), 'w') as file:\n",
    "            for line in lines:\n",
    "                parts = line.split()\n",
    "                # Convert the top-left coordinates to center coordinates\n",
    "                x_center = (float(parts[0]) + float(parts[2]) / 2) / img_width\n",
    "                y_center = (float(parts[1]) + float(parts[3]) / 2) / img_height\n",
    "                # Normalize the width and height\n",
    "                width = float(parts[2]) / img_width\n",
    "                height = float(parts[3]) / img_height\n",
    "                # Write the converted coordinates back to the file\n",
    "                file.write(f'{parts[4]} {x_center} {y_center} {width} {height}\\n')"
   ]
  },
  {
   "cell_type": "code",
   "execution_count": 5,
   "metadata": {},
   "outputs": [],
   "source": [
    "# os.environ['CUDA_LAUNCH_BLOCKING'] = \"1\""
   ]
  },
  {
   "cell_type": "code",
   "execution_count": 15,
   "metadata": {},
   "outputs": [
    {
     "name": "stdout",
     "output_type": "stream",
     "text": [
      "Ultralytics YOLOv8.1.5 🚀 Python-3.11.5 torch-2.1.1+cu121 CUDA:0 (NVIDIA GeForce GTX 1650, 4096MiB)\n",
      "\u001b[34m\u001b[1mengine\\trainer: \u001b[0mtask=detect, mode=train, model=yolov8n.pt, data=Images_Grocery/data_set.yaml, epochs=10, time=None, patience=50, batch=8, imgsz=640, save=True, save_period=-1, cache=False, device=None, workers=8, project=None, name=train26, exist_ok=False, pretrained=True, optimizer=auto, verbose=True, seed=0, deterministic=True, single_cls=False, rect=False, cos_lr=False, close_mosaic=10, resume=False, amp=True, fraction=1.0, profile=False, freeze=None, multi_scale=False, overlap_mask=True, mask_ratio=4, dropout=0.0, val=True, split=val, save_json=False, save_hybrid=False, conf=None, iou=0.7, max_det=300, half=False, dnn=False, plots=True, source=None, vid_stride=1, stream_buffer=False, visualize=False, augment=False, agnostic_nms=False, classes=None, retina_masks=False, embed=None, show=False, save_frames=False, save_txt=False, save_conf=False, save_crop=False, show_labels=True, show_conf=True, show_boxes=True, line_width=None, format=torchscript, keras=False, optimize=False, int8=False, dynamic=False, simplify=False, opset=None, workspace=4, nms=False, lr0=0.01, lrf=0.01, momentum=0.937, weight_decay=0.0005, warmup_epochs=3.0, warmup_momentum=0.8, warmup_bias_lr=0.1, box=7.5, cls=0.5, dfl=1.5, pose=12.0, kobj=1.0, label_smoothing=0.0, nbs=64, hsv_h=0.015, hsv_s=0.7, hsv_v=0.4, degrees=0.0, translate=0.1, scale=0.5, shear=0.0, perspective=0.0, flipud=0.0, fliplr=0.5, mosaic=1.0, mixup=0.0, copy_paste=0.0, auto_augment=randaugment, erasing=0.4, crop_fraction=1.0, cfg=None, tracker=botsort.yaml, save_dir=runs\\detect\\train26\n",
      "Overriding model.yaml nc=80 with nc=11\n",
      "\n",
      "                   from  n    params  module                                       arguments                     \n",
      "  0                  -1  1       464  ultralytics.nn.modules.conv.Conv             [3, 16, 3, 2]                 \n",
      "  1                  -1  1      4672  ultralytics.nn.modules.conv.Conv             [16, 32, 3, 2]                \n",
      "  2                  -1  1      7360  ultralytics.nn.modules.block.C2f             [32, 32, 1, True]             \n",
      "  3                  -1  1     18560  ultralytics.nn.modules.conv.Conv             [32, 64, 3, 2]                \n",
      "  4                  -1  2     49664  ultralytics.nn.modules.block.C2f             [64, 64, 2, True]             \n",
      "  5                  -1  1     73984  ultralytics.nn.modules.conv.Conv             [64, 128, 3, 2]               \n",
      "  6                  -1  2    197632  ultralytics.nn.modules.block.C2f             [128, 128, 2, True]           \n",
      "  7                  -1  1    295424  ultralytics.nn.modules.conv.Conv             [128, 256, 3, 2]              \n",
      "  8                  -1  1    460288  ultralytics.nn.modules.block.C2f             [256, 256, 1, True]           \n",
      "  9                  -1  1    164608  ultralytics.nn.modules.block.SPPF            [256, 256, 5]                 \n",
      " 10                  -1  1         0  torch.nn.modules.upsampling.Upsample         [None, 2, 'nearest']          \n",
      " 11             [-1, 6]  1         0  ultralytics.nn.modules.conv.Concat           [1]                           \n",
      " 12                  -1  1    148224  ultralytics.nn.modules.block.C2f             [384, 128, 1]                 \n",
      " 13                  -1  1         0  torch.nn.modules.upsampling.Upsample         [None, 2, 'nearest']          \n",
      " 14             [-1, 4]  1         0  ultralytics.nn.modules.conv.Concat           [1]                           \n",
      " 15                  -1  1     37248  ultralytics.nn.modules.block.C2f             [192, 64, 1]                  \n",
      " 16                  -1  1     36992  ultralytics.nn.modules.conv.Conv             [64, 64, 3, 2]                \n",
      " 17            [-1, 12]  1         0  ultralytics.nn.modules.conv.Concat           [1]                           \n",
      " 18                  -1  1    123648  ultralytics.nn.modules.block.C2f             [192, 128, 1]                 \n",
      " 19                  -1  1    147712  ultralytics.nn.modules.conv.Conv             [128, 128, 3, 2]              \n",
      " 20             [-1, 9]  1         0  ultralytics.nn.modules.conv.Concat           [1]                           \n",
      " 21                  -1  1    493056  ultralytics.nn.modules.block.C2f             [384, 256, 1]                 \n",
      " 22        [15, 18, 21]  1    753457  ultralytics.nn.modules.head.Detect           [11, [64, 128, 256]]          \n",
      "Model summary: 225 layers, 3012993 parameters, 3012977 gradients, 8.2 GFLOPs\n",
      "\n",
      "Transferred 319/355 items from pretrained weights\n",
      "\u001b[34m\u001b[1mTensorBoard: \u001b[0mStart with 'tensorboard --logdir runs\\detect\\train26', view at http://localhost:6006/\n",
      "Freezing layer 'model.22.dfl.conv.weight'\n",
      "\u001b[34m\u001b[1mAMP: \u001b[0mrunning Automatic Mixed Precision (AMP) checks with YOLOv8n...\n",
      "\u001b[34m\u001b[1mAMP: \u001b[0mchecks passed ✅\n"
     ]
    },
    {
     "name": "stderr",
     "output_type": "stream",
     "text": [
      "\u001b[34m\u001b[1mtrain: \u001b[0mScanning D:\\Cursuri\\Master\\Anul II\\Semestrul I\\Computer Vision\\Grocery Detection\\GroceryDetection\\Images_Grocery\\labels\\train... 338 images, 0 backgrounds, 1 corrupt: 100%|██████████| 338/338 [00:00<00:00, 411.83it/s]"
     ]
    },
    {
     "name": "stdout",
     "output_type": "stream",
     "text": [
      "\u001b[34m\u001b[1mtrain: \u001b[0mWARNING ⚠️ D:\\Cursuri\\Master\\Anul II\\Semestrul I\\Computer Vision\\Grocery Detection\\GroceryDetection\\Images_Grocery\\images\\train\\C3_P07_N1_S6_1.JPG: ignoring corrupt image/label: non-normalized or out of bounds coordinates [     1.0197      1.0164      1.0329      1.0312      1.0148      1.0197      1.0197      1.0148      1.0164      1.0115      1.0181      1.0263]\n"
     ]
    },
    {
     "name": "stderr",
     "output_type": "stream",
     "text": [
      "\n"
     ]
    },
    {
     "name": "stdout",
     "output_type": "stream",
     "text": [
      "\u001b[34m\u001b[1mtrain: \u001b[0mNew cache created: D:\\Cursuri\\Master\\Anul II\\Semestrul I\\Computer Vision\\Grocery Detection\\GroceryDetection\\Images_Grocery\\labels\\train.cache\n"
     ]
    },
    {
     "name": "stderr",
     "output_type": "stream",
     "text": [
      "\u001b[34m\u001b[1mval: \u001b[0mScanning D:\\Cursuri\\Master\\Anul II\\Semestrul I\\Computer Vision\\Grocery Detection\\GroceryDetection\\Images_Grocery\\labels\\val... 15 images, 0 backgrounds, 0 corrupt: 100%|██████████| 15/15 [00:01<00:00, 11.13it/s]\n"
     ]
    },
    {
     "name": "stdout",
     "output_type": "stream",
     "text": [
      "\u001b[34m\u001b[1mval: \u001b[0mNew cache created: D:\\Cursuri\\Master\\Anul II\\Semestrul I\\Computer Vision\\Grocery Detection\\GroceryDetection\\Images_Grocery\\labels\\val.cache\n",
      "Plotting labels to runs\\detect\\train26\\labels.jpg... \n",
      "\u001b[34m\u001b[1moptimizer:\u001b[0m 'optimizer=auto' found, ignoring 'lr0=0.01' and 'momentum=0.937' and determining best 'optimizer', 'lr0' and 'momentum' automatically... \n",
      "\u001b[34m\u001b[1moptimizer:\u001b[0m AdamW(lr=0.000667, momentum=0.9) with parameter groups 57 weight(decay=0.0), 64 weight(decay=0.0005), 63 bias(decay=0.0)\n",
      "\u001b[34m\u001b[1mTensorBoard: \u001b[0mmodel graph visualization added ✅\n",
      "Image sizes 640 train, 640 val\n",
      "Using 8 dataloader workers\n",
      "Logging results to \u001b[1mruns\\detect\\train26\u001b[0m\n",
      "Starting training for 10 epochs...\n",
      "Closing dataloader mosaic\n",
      "\n",
      "      Epoch    GPU_mem   box_loss   cls_loss   dfl_loss  Instances       Size\n"
     ]
    },
    {
     "name": "stderr",
     "output_type": "stream",
     "text": [
      "       1/10      1.68G      1.368       3.69      1.171         36        640: 100%|██████████| 43/43 [00:27<00:00,  1.58it/s]\n",
      "                 Class     Images  Instances      Box(P          R      mAP50  mAP50-95): 100%|██████████| 1/1 [00:00<00:00,  1.55it/s]"
     ]
    },
    {
     "name": "stdout",
     "output_type": "stream",
     "text": [
      "                   all         15        284      0.972      0.162      0.275      0.178\n"
     ]
    },
    {
     "name": "stderr",
     "output_type": "stream",
     "text": [
      "\n"
     ]
    },
    {
     "name": "stdout",
     "output_type": "stream",
     "text": [
      "\n",
      "      Epoch    GPU_mem   box_loss   cls_loss   dfl_loss  Instances       Size\n"
     ]
    },
    {
     "name": "stderr",
     "output_type": "stream",
     "text": [
      "       2/10      1.78G      1.154      2.114      1.029         29        640: 100%|██████████| 43/43 [00:24<00:00,  1.75it/s]\n",
      "                 Class     Images  Instances      Box(P          R      mAP50  mAP50-95): 100%|██████████| 1/1 [00:00<00:00,  1.82it/s]"
     ]
    },
    {
     "name": "stdout",
     "output_type": "stream",
     "text": [
      "                   all         15        284      0.928      0.271      0.311      0.241\n"
     ]
    },
    {
     "name": "stderr",
     "output_type": "stream",
     "text": [
      "\n"
     ]
    },
    {
     "name": "stdout",
     "output_type": "stream",
     "text": [
      "\n",
      "      Epoch    GPU_mem   box_loss   cls_loss   dfl_loss  Instances       Size\n"
     ]
    },
    {
     "name": "stderr",
     "output_type": "stream",
     "text": [
      "       3/10      1.74G      1.167        1.8      1.064         24        640: 100%|██████████| 43/43 [00:24<00:00,  1.77it/s]\n",
      "                 Class     Images  Instances      Box(P          R      mAP50  mAP50-95): 100%|██████████| 1/1 [00:00<00:00,  1.87it/s]"
     ]
    },
    {
     "name": "stdout",
     "output_type": "stream",
     "text": [
      "                   all         15        284      0.212      0.565      0.315      0.246\n"
     ]
    },
    {
     "name": "stderr",
     "output_type": "stream",
     "text": [
      "\n"
     ]
    },
    {
     "name": "stdout",
     "output_type": "stream",
     "text": [
      "\n",
      "      Epoch    GPU_mem   box_loss   cls_loss   dfl_loss  Instances       Size\n"
     ]
    },
    {
     "name": "stderr",
     "output_type": "stream",
     "text": [
      "       4/10      1.59G      1.136      1.556       1.04         22        640: 100%|██████████| 43/43 [00:24<00:00,  1.74it/s]\n",
      "                 Class     Images  Instances      Box(P          R      mAP50  mAP50-95): 100%|██████████| 1/1 [00:00<00:00,  1.85it/s]"
     ]
    },
    {
     "name": "stdout",
     "output_type": "stream",
     "text": [
      "                   all         15        284      0.216      0.854      0.346      0.268\n"
     ]
    },
    {
     "name": "stderr",
     "output_type": "stream",
     "text": [
      "\n"
     ]
    },
    {
     "name": "stdout",
     "output_type": "stream",
     "text": [
      "\n",
      "      Epoch    GPU_mem   box_loss   cls_loss   dfl_loss  Instances       Size\n"
     ]
    },
    {
     "name": "stderr",
     "output_type": "stream",
     "text": [
      "       5/10      1.67G       1.11      1.435      1.041         39        640: 100%|██████████| 43/43 [00:24<00:00,  1.76it/s]\n",
      "                 Class     Images  Instances      Box(P          R      mAP50  mAP50-95): 100%|██████████| 1/1 [00:00<00:00,  1.83it/s]"
     ]
    },
    {
     "name": "stdout",
     "output_type": "stream",
     "text": [
      "                   all         15        284      0.287      0.854      0.354      0.278\n"
     ]
    },
    {
     "name": "stderr",
     "output_type": "stream",
     "text": [
      "\n"
     ]
    },
    {
     "name": "stdout",
     "output_type": "stream",
     "text": [
      "\n",
      "      Epoch    GPU_mem   box_loss   cls_loss   dfl_loss  Instances       Size\n"
     ]
    },
    {
     "name": "stderr",
     "output_type": "stream",
     "text": [
      "       6/10       1.6G      1.076      1.348       1.04         60        640: 100%|██████████| 43/43 [00:24<00:00,  1.76it/s]\n",
      "                 Class     Images  Instances      Box(P          R      mAP50  mAP50-95): 100%|██████████| 1/1 [00:00<00:00,  1.88it/s]"
     ]
    },
    {
     "name": "stdout",
     "output_type": "stream",
     "text": [
      "                   all         15        284      0.238          1      0.367      0.295\n"
     ]
    },
    {
     "name": "stderr",
     "output_type": "stream",
     "text": [
      "\n"
     ]
    },
    {
     "name": "stdout",
     "output_type": "stream",
     "text": [
      "\n",
      "      Epoch    GPU_mem   box_loss   cls_loss   dfl_loss  Instances       Size\n"
     ]
    },
    {
     "name": "stderr",
     "output_type": "stream",
     "text": [
      "       7/10       1.8G      1.061       1.27      1.045         36        640: 100%|██████████| 43/43 [00:24<00:00,  1.75it/s]\n",
      "                 Class     Images  Instances      Box(P          R      mAP50  mAP50-95): 100%|██████████| 1/1 [00:00<00:00,  1.89it/s]"
     ]
    },
    {
     "name": "stdout",
     "output_type": "stream",
     "text": [
      "                   all         15        284      0.236          1      0.367      0.289\n"
     ]
    },
    {
     "name": "stderr",
     "output_type": "stream",
     "text": [
      "\n"
     ]
    },
    {
     "name": "stdout",
     "output_type": "stream",
     "text": [
      "\n",
      "      Epoch    GPU_mem   box_loss   cls_loss   dfl_loss  Instances       Size\n"
     ]
    },
    {
     "name": "stderr",
     "output_type": "stream",
     "text": [
      "       8/10      1.61G      1.114      1.297      1.068         34        640: 100%|██████████| 43/43 [00:24<00:00,  1.76it/s]\n",
      "                 Class     Images  Instances      Box(P          R      mAP50  mAP50-95): 100%|██████████| 1/1 [00:00<00:00,  1.91it/s]"
     ]
    },
    {
     "name": "stdout",
     "output_type": "stream",
     "text": [
      "                   all         15        284      0.226          1      0.368      0.293\n"
     ]
    },
    {
     "name": "stderr",
     "output_type": "stream",
     "text": [
      "\n"
     ]
    },
    {
     "name": "stdout",
     "output_type": "stream",
     "text": [
      "\n",
      "      Epoch    GPU_mem   box_loss   cls_loss   dfl_loss  Instances       Size\n"
     ]
    },
    {
     "name": "stderr",
     "output_type": "stream",
     "text": [
      "       9/10      1.73G       1.04      1.132      1.028         27        640: 100%|██████████| 43/43 [00:25<00:00,  1.66it/s]\n",
      "                 Class     Images  Instances      Box(P          R      mAP50  mAP50-95): 100%|██████████| 1/1 [00:00<00:00,  1.93it/s]"
     ]
    },
    {
     "name": "stdout",
     "output_type": "stream",
     "text": [
      "                   all         15        284      0.222      0.938      0.358      0.277\n"
     ]
    },
    {
     "name": "stderr",
     "output_type": "stream",
     "text": [
      "\n"
     ]
    },
    {
     "name": "stdout",
     "output_type": "stream",
     "text": [
      "\n",
      "      Epoch    GPU_mem   box_loss   cls_loss   dfl_loss  Instances       Size\n"
     ]
    },
    {
     "name": "stderr",
     "output_type": "stream",
     "text": [
      "      10/10      1.65G       1.02      1.122      1.033         45        640: 100%|██████████| 43/43 [00:24<00:00,  1.74it/s]\n",
      "                 Class     Images  Instances      Box(P          R      mAP50  mAP50-95): 100%|██████████| 1/1 [00:00<00:00,  1.79it/s]"
     ]
    },
    {
     "name": "stdout",
     "output_type": "stream",
     "text": [
      "                   all         15        284      0.964      0.333      0.359      0.288\n"
     ]
    },
    {
     "name": "stderr",
     "output_type": "stream",
     "text": [
      "\n"
     ]
    },
    {
     "name": "stdout",
     "output_type": "stream",
     "text": [
      "\n",
      "10 epochs completed in 0.101 hours.\n",
      "Optimizer stripped from runs\\detect\\train26\\weights\\last.pt, 6.3MB\n",
      "Optimizer stripped from runs\\detect\\train26\\weights\\best.pt, 6.3MB\n",
      "\n",
      "Validating runs\\detect\\train26\\weights\\best.pt...\n",
      "Ultralytics YOLOv8.1.5 🚀 Python-3.11.5 torch-2.1.1+cu121 CUDA:0 (NVIDIA GeForce GTX 1650, 4096MiB)\n",
      "Model summary (fused): 168 layers, 3007793 parameters, 0 gradients, 8.1 GFLOPs\n"
     ]
    },
    {
     "name": "stderr",
     "output_type": "stream",
     "text": [
      "                 Class     Images  Instances      Box(P          R      mAP50  mAP50-95): 100%|██████████| 1/1 [00:00<00:00,  1.26it/s]\n"
     ]
    },
    {
     "name": "stdout",
     "output_type": "stream",
     "text": [
      "                   all         15        284      0.239          1      0.367      0.295\n",
      "                 pack1         15        250      0.577          1      0.949      0.763\n",
      "                 pack2         15         16     0.0792          1     0.0804     0.0645\n",
      "                 pack5         15         18       0.06          1     0.0711     0.0559\n",
      "Speed: 1.9ms preprocess, 27.4ms inference, 0.0ms loss, 3.2ms postprocess per image\n",
      "Results saved to \u001b[1mruns\\detect\\train26\u001b[0m\n",
      "\n",
      "image 1/1 D:\\Cursuri\\Master\\Anul II\\Semestrul I\\Computer Vision\\Grocery Detection\\Mask YOLO\\Images_Grocery\\ShelfImages\\C1_P02_N3_S2_1.jpg: 480x640 27 pack1s, 65.0ms\n",
      "Speed: 8.5ms preprocess, 65.0ms inference, 5.4ms postprocess per image at shape (1, 3, 480, 640)\n"
     ]
    }
   ],
   "source": [
    "from ultralytics import YOLO\n",
    "\n",
    "# Load a pretrained YOLO model (recommended for training)\n",
    "model = YOLO('yolov8n.pt')\n",
    "\n",
    "# Train the model using the 'coco128.yaml' dataset for 3 epochs\n",
    "results = model.train(data='Images_Grocery/data_set.yaml', epochs=10, batch=8)\n",
    "\n",
    "# Perform object detection on an image using the model\n",
    "results = model('D:\\Cursuri\\Master\\Anul II\\Semestrul I\\Computer Vision\\Grocery Detection\\Mask YOLO\\Images_Grocery\\ShelfImages\\C1_P02_N3_S2_1.jpg')"
   ]
  },
  {
   "cell_type": "code",
   "execution_count": 16,
   "metadata": {},
   "outputs": [
    {
     "name": "stdout",
     "output_type": "stream",
     "text": [
      "Ultralytics YOLOv8.1.5 🚀 Python-3.11.5 torch-2.1.1+cu121 CUDA:0 (NVIDIA GeForce GTX 1650, 4096MiB)\n"
     ]
    },
    {
     "name": "stderr",
     "output_type": "stream",
     "text": [
      "\u001b[34m\u001b[1mval: \u001b[0mScanning D:\\Cursuri\\Master\\Anul II\\Semestrul I\\Computer Vision\\Grocery Detection\\GroceryDetection\\Images_Grocery\\labels\\val.cache... 15 images, 0 backgrounds, 0 corrupt: 100%|██████████| 15/15 [00:00<?, ?it/s]\n",
      "                 Class     Images  Instances      Box(P          R      mAP50  mAP50-95): 100%|██████████| 2/2 [00:26<00:00, 13.14s/it]\n"
     ]
    },
    {
     "name": "stdout",
     "output_type": "stream",
     "text": [
      "                   all         15        284      0.313      0.375      0.363      0.287\n",
      "                 pack1         15        250      0.803          1      0.903      0.719\n",
      "                 pack2         15         16      0.136      0.125      0.115      0.089\n",
      "                 pack5         15         18          0          0       0.07     0.0532\n",
      "Speed: 2.2ms preprocess, 84.3ms inference, 0.1ms loss, 44.8ms postprocess per image\n",
      "Results saved to \u001b[1mruns\\detect\\train262\u001b[0m\n"
     ]
    }
   ],
   "source": [
    "# Evaluate the model's performance on the validation set\n",
    "results = model.val()"
   ]
  },
  {
   "cell_type": "code",
   "execution_count": null,
   "metadata": {},
   "outputs": [],
   "source": []
  }
 ],
 "metadata": {
  "kernelspec": {
   "display_name": "rl",
   "language": "python",
   "name": "python3"
  },
  "language_info": {
   "codemirror_mode": {
    "name": "ipython",
    "version": 3
   },
   "file_extension": ".py",
   "mimetype": "text/x-python",
   "name": "python",
   "nbconvert_exporter": "python",
   "pygments_lexer": "ipython3",
   "version": "3.11.5"
  }
 },
 "nbformat": 4,
 "nbformat_minor": 2
}
